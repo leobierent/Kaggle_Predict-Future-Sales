{
 "cells": [
  {
   "cell_type": "markdown",
   "metadata": {},
   "source": [
    "# Opening Data & libs\n"
   ]
  },
  {
   "cell_type": "code",
   "execution_count": 2,
   "metadata": {
    "collapsed": true
   },
   "outputs": [],
   "source": [
    "import pandas as pd\n",
    "from sklearn import preprocessing\n",
    "import numpy as np\n",
    "import pandas as pd\n",
    "import matplotlib.pyplot as plt\n",
    "import datetime as dt\n",
    "import pickle as pickle\n",
    "from sklearn.preprocessing import LabelEncoder\n",
    "from calendar import monthrange\n",
    "import itertools\n",
    "from tqdm import tqdm_notebook\n",
    "\n"
   ]
  },
  {
   "cell_type": "code",
   "execution_count": 3,
   "metadata": {
    "collapsed": true
   },
   "outputs": [],
   "source": [
    "def reduce_mem_usage(df, verbose=True):\n",
    "    numerics = ['int16', 'int32', 'int64', 'float16', 'float32', 'float64']\n",
    "    start_mem = df.memory_usage().sum() / 1024**2    \n",
    "    for col in df.columns:\n",
    "        col_type = df[col].dtypes\n",
    "        if col_type in numerics:\n",
    "            c_min = df[col].min()\n",
    "            c_max = df[col].max()\n",
    "            if str(col_type)[:3] == 'int':\n",
    "                if c_min > np.iinfo(np.int8).min and c_max < np.iinfo(np.int8).max:\n",
    "                    df[col] = df[col].astype(np.int8)\n",
    "                elif c_min > np.iinfo(np.int16).min and c_max < np.iinfo(np.int16).max:\n",
    "                    df[col] = df[col].astype(np.int16)\n",
    "                elif c_min > np.iinfo(np.int32).min and c_max < np.iinfo(np.int32).max:\n",
    "                    df[col] = df[col].astype(np.int32)\n",
    "                elif c_min > np.iinfo(np.int64).min and c_max < np.iinfo(np.int64).max:\n",
    "                    df[col] = df[col].astype(np.int64)  \n",
    "            else:\n",
    "                if c_min > np.finfo(np.float16).min and c_max < np.finfo(np.float16).max:\n",
    "                    df[col] = df[col].astype(np.float16)\n",
    "                elif c_min > np.finfo(np.float32).min and c_max < np.finfo(np.float32).max:\n",
    "                    df[col] = df[col].astype(np.float32)\n",
    "                else:\n",
    "                    df[col] = df[col].astype(np.float64)    \n",
    "    end_mem = df.memory_usage().sum() / 1024**2\n",
    "    if verbose: print('Mem. usage decreased to {:5.2f} Mb ({:.1f}% reduction)'.format(end_mem, 100 * (start_mem - end_mem) / start_mem))\n",
    "    return df"
   ]
  },
  {
   "cell_type": "markdown",
   "metadata": {},
   "source": [
    "## Load the Data"
   ]
  },
  {
   "cell_type": "code",
   "execution_count": 77,
   "metadata": {
    "collapsed": true
   },
   "outputs": [],
   "source": [
    "transactions = pd.read_csv(\"Data/sales_train.csv\")\n",
    "items= pd.read_csv(\"Data/items.csv\")\n",
    "item_categories = pd.read_csv(\"Data/item_categories.csv\")\n",
    "shops = pd.read_csv(\"Data/shops.csv\")\n",
    "test = pd.read_csv(\"Data/test.csv\", index_col = \"ID\")"
   ]
  },
  {
   "cell_type": "code",
   "execution_count": 78,
   "metadata": {},
   "outputs": [
    {
     "name": "stdout",
     "output_type": "stream",
     "text": [
      " Shape : (2935849, 6) \n",
      " head :          date  date_block_num  shop_id  item_id  item_price  item_cnt_day\n",
      "0  02.01.2013               0       59    22154      999.00           1.0\n",
      "1  03.01.2013               0       25     2552      899.00           1.0\n",
      "2  05.01.2013               0       25     2552      899.00          -1.0\n",
      "3  06.01.2013               0       25     2554     1709.05           1.0\n",
      "4  15.01.2013               0       25     2555     1099.00           1.0\n",
      "\n",
      " Shape : (22170, 3) \n",
      " head :                                            item_name  item_id  \\\n",
      "0          ! ВО ВЛАСТИ НАВАЖДЕНИЯ (ПЛАСТ.)         D        0   \n",
      "1  !ABBYY FineReader 12 Professional Edition Full...        1   \n",
      "2      ***В ЛУЧАХ СЛАВЫ   (UNV)                    D        2   \n",
      "3    ***ГОЛУБАЯ ВОЛНА  (Univ)                      D        3   \n",
      "4        ***КОРОБКА (СТЕКЛО)                       D        4   \n",
      "\n",
      "   item_category_id  \n",
      "0                40  \n",
      "1                76  \n",
      "2                40  \n",
      "3                40  \n",
      "4                40  \n",
      "\n",
      " Shape : (84, 2) \n",
      " head :         item_category_name  item_category_id\n",
      "0  PC - Гарнитуры/Наушники                 0\n",
      "1         Аксессуары - PS2                 1\n",
      "2         Аксессуары - PS3                 2\n",
      "3         Аксессуары - PS4                 3\n",
      "4         Аксессуары - PSP                 4\n",
      "\n",
      " Shape : (60, 2) \n",
      " head :                         shop_name  shop_id\n",
      "0   !Якутск Орджоникидзе, 56 фран        0\n",
      "1   !Якутск ТЦ \"Центральный\" фран        1\n",
      "2                Адыгея ТЦ \"Мега\"        2\n",
      "3  Балашиха ТРК \"Октябрь-Киномир\"        3\n",
      "4        Волжский ТЦ \"Волга Молл\"        4\n",
      "\n",
      " Shape : (214200, 2) \n",
      " head :     shop_id  item_id\n",
      "ID                  \n",
      "0         5     5037\n",
      "1         5     5320\n",
      "2         5     5233\n",
      "3         5     5232\n",
      "4         5     5268\n",
      "\n"
     ]
    }
   ],
   "source": [
    "for data_frame in [transactions ,items ,item_categories , shops ,test]:\n",
    "    print (\" Shape : {} \\n head : {}\\n\".format(data_frame.shape,data_frame.head()))\n",
    "    "
   ]
  },
  {
   "cell_type": "markdown",
   "metadata": {},
   "source": [
    "# Visualisation\n"
   ]
  },
  {
   "cell_type": "markdown",
   "metadata": {},
   "source": [
    "#### Transactions\n",
    "On a dans notre set \"transactions\" tous les tickets de caisses correspondants à la vente d'un item, dans un shop à une date donnée. "
   ]
  },
  {
   "cell_type": "code",
   "execution_count": 79,
   "metadata": {},
   "outputs": [
    {
     "data": {
      "text/html": [
       "<div>\n",
       "<style scoped>\n",
       "    .dataframe tbody tr th:only-of-type {\n",
       "        vertical-align: middle;\n",
       "    }\n",
       "\n",
       "    .dataframe tbody tr th {\n",
       "        vertical-align: top;\n",
       "    }\n",
       "\n",
       "    .dataframe thead th {\n",
       "        text-align: right;\n",
       "    }\n",
       "</style>\n",
       "<table border=\"1\" class=\"dataframe\">\n",
       "  <thead>\n",
       "    <tr style=\"text-align: right;\">\n",
       "      <th></th>\n",
       "      <th>date</th>\n",
       "      <th>date_block_num</th>\n",
       "      <th>shop_id</th>\n",
       "      <th>item_id</th>\n",
       "      <th>item_price</th>\n",
       "      <th>item_cnt_day</th>\n",
       "    </tr>\n",
       "  </thead>\n",
       "  <tbody>\n",
       "    <tr>\n",
       "      <th>0</th>\n",
       "      <td>02.01.2013</td>\n",
       "      <td>0</td>\n",
       "      <td>59</td>\n",
       "      <td>22154</td>\n",
       "      <td>999.0</td>\n",
       "      <td>1.0</td>\n",
       "    </tr>\n",
       "    <tr>\n",
       "      <th>1</th>\n",
       "      <td>03.01.2013</td>\n",
       "      <td>0</td>\n",
       "      <td>25</td>\n",
       "      <td>2552</td>\n",
       "      <td>899.0</td>\n",
       "      <td>1.0</td>\n",
       "    </tr>\n",
       "  </tbody>\n",
       "</table>\n",
       "</div>"
      ],
      "text/plain": [
       "         date  date_block_num  shop_id  item_id  item_price  item_cnt_day\n",
       "0  02.01.2013               0       59    22154       999.0           1.0\n",
       "1  03.01.2013               0       25     2552       899.0           1.0"
      ]
     },
     "execution_count": 79,
     "metadata": {},
     "output_type": "execute_result"
    }
   ],
   "source": [
    "transactions.head(2)"
   ]
  },
  {
   "cell_type": "code",
   "execution_count": 80,
   "metadata": {},
   "outputs": [
    {
     "name": "stdout",
     "output_type": "stream",
     "text": [
      "Il y a 33 mois dans le trainset.\n"
     ]
    }
   ],
   "source": [
    "print('Il y a {} mois dans le trainset.'.format(max(transactions.date_block_num.unique())))"
   ]
  },
  {
   "cell_type": "markdown",
   "metadata": {},
   "source": [
    "#### Test\n",
    "On a dans notre set Test le mois 24 sans les ventes. Il s'agit de determiner les ventes d'un article dans un magasin precis."
   ]
  },
  {
   "cell_type": "code",
   "execution_count": 81,
   "metadata": {},
   "outputs": [
    {
     "data": {
      "text/html": [
       "<div>\n",
       "<style scoped>\n",
       "    .dataframe tbody tr th:only-of-type {\n",
       "        vertical-align: middle;\n",
       "    }\n",
       "\n",
       "    .dataframe tbody tr th {\n",
       "        vertical-align: top;\n",
       "    }\n",
       "\n",
       "    .dataframe thead th {\n",
       "        text-align: right;\n",
       "    }\n",
       "</style>\n",
       "<table border=\"1\" class=\"dataframe\">\n",
       "  <thead>\n",
       "    <tr style=\"text-align: right;\">\n",
       "      <th></th>\n",
       "      <th>shop_id</th>\n",
       "      <th>item_id</th>\n",
       "    </tr>\n",
       "    <tr>\n",
       "      <th>ID</th>\n",
       "      <th></th>\n",
       "      <th></th>\n",
       "    </tr>\n",
       "  </thead>\n",
       "  <tbody>\n",
       "    <tr>\n",
       "      <th>0</th>\n",
       "      <td>5</td>\n",
       "      <td>5037</td>\n",
       "    </tr>\n",
       "    <tr>\n",
       "      <th>1</th>\n",
       "      <td>5</td>\n",
       "      <td>5320</td>\n",
       "    </tr>\n",
       "  </tbody>\n",
       "</table>\n",
       "</div>"
      ],
      "text/plain": [
       "    shop_id  item_id\n",
       "ID                  \n",
       "0         5     5037\n",
       "1         5     5320"
      ]
     },
     "execution_count": 81,
     "metadata": {},
     "output_type": "execute_result"
    }
   ],
   "source": [
    "test.head(2)"
   ]
  },
  {
   "cell_type": "code",
   "execution_count": 82,
   "metadata": {},
   "outputs": [
    {
     "name": "stdout",
     "output_type": "stream",
     "text": [
      "On a 42 shops et 5100 items dans le test set. \n",
      "Pour un total de 214200 lignes.\n"
     ]
    }
   ],
   "source": [
    "print('On a {} shops et {} items dans le test set. \\nPour un total de {} lignes.'\n",
    "      .format(test.shop_id.nunique(),test.item_id.nunique(),test.shape[0]))"
   ]
  },
  {
   "cell_type": "markdown",
   "metadata": {},
   "source": [
    "on remarque que 42*5100 = 214200\n",
    "\n",
    "Ainsi, le test set a été construit en mprenants toutes les possibilités de combinaisons en prenant 42 shops et 5100 items. \n",
    "\n",
    "C'est une information très interessante, on va donc construire notre trainset de la même façon. "
   ]
  },
  {
   "cell_type": "markdown",
   "metadata": {},
   "source": [
    "### Pour observer plus de graphes, plus d'études de visualisation, se rendre dans le notebook \"Visualization\""
   ]
  },
  {
   "cell_type": "markdown",
   "metadata": {},
   "source": [
    "# Preprocessing "
   ]
  },
  {
   "cell_type": "markdown",
   "metadata": {},
   "source": [
    "#### Shops\n",
    "\n",
    "Les noms de magasins sont en Russe, mais en cherchant un peu, on se rend compte que la première partie correspond à une ville(que l'on va encoder), la deuxième à un complexe : Centre commercial... (Que l'on va encoder egalement)\n"
   ]
  },
  {
   "cell_type": "code",
   "execution_count": 83,
   "metadata": {},
   "outputs": [
    {
     "data": {
      "text/html": [
       "<div>\n",
       "<style scoped>\n",
       "    .dataframe tbody tr th:only-of-type {\n",
       "        vertical-align: middle;\n",
       "    }\n",
       "\n",
       "    .dataframe tbody tr th {\n",
       "        vertical-align: top;\n",
       "    }\n",
       "\n",
       "    .dataframe thead th {\n",
       "        text-align: right;\n",
       "    }\n",
       "</style>\n",
       "<table border=\"1\" class=\"dataframe\">\n",
       "  <thead>\n",
       "    <tr style=\"text-align: right;\">\n",
       "      <th></th>\n",
       "      <th>shop_name</th>\n",
       "      <th>shop_id</th>\n",
       "    </tr>\n",
       "  </thead>\n",
       "  <tbody>\n",
       "    <tr>\n",
       "      <th>0</th>\n",
       "      <td>!Якутск Орджоникидзе, 56 фран</td>\n",
       "      <td>0</td>\n",
       "    </tr>\n",
       "    <tr>\n",
       "      <th>1</th>\n",
       "      <td>!Якутск ТЦ \"Центральный\" фран</td>\n",
       "      <td>1</td>\n",
       "    </tr>\n",
       "  </tbody>\n",
       "</table>\n",
       "</div>"
      ],
      "text/plain": [
       "                       shop_name  shop_id\n",
       "0  !Якутск Орджоникидзе, 56 фран        0\n",
       "1  !Якутск ТЦ \"Центральный\" фран        1"
      ]
     },
     "execution_count": 83,
     "metadata": {},
     "output_type": "execute_result"
    }
   ],
   "source": [
    "shops.head(2)"
   ]
  },
  {
   "cell_type": "code",
   "execution_count": 84,
   "metadata": {},
   "outputs": [
    {
     "data": {
      "text/html": [
       "<div>\n",
       "<style scoped>\n",
       "    .dataframe tbody tr th:only-of-type {\n",
       "        vertical-align: middle;\n",
       "    }\n",
       "\n",
       "    .dataframe tbody tr th {\n",
       "        vertical-align: top;\n",
       "    }\n",
       "\n",
       "    .dataframe thead th {\n",
       "        text-align: right;\n",
       "    }\n",
       "</style>\n",
       "<table border=\"1\" class=\"dataframe\">\n",
       "  <thead>\n",
       "    <tr style=\"text-align: right;\">\n",
       "      <th></th>\n",
       "      <th>shop_id</th>\n",
       "      <th>city_code</th>\n",
       "      <th>complex_code</th>\n",
       "    </tr>\n",
       "  </thead>\n",
       "  <tbody>\n",
       "    <tr>\n",
       "      <th>0</th>\n",
       "      <td>0</td>\n",
       "      <td>29</td>\n",
       "      <td>0</td>\n",
       "    </tr>\n",
       "    <tr>\n",
       "      <th>1</th>\n",
       "      <td>1</td>\n",
       "      <td>29</td>\n",
       "      <td>4</td>\n",
       "    </tr>\n",
       "  </tbody>\n",
       "</table>\n",
       "</div>"
      ],
      "text/plain": [
       "   shop_id  city_code  complex_code\n",
       "0        0         29             0\n",
       "1        1         29             4"
      ]
     },
     "execution_count": 84,
     "metadata": {},
     "output_type": "execute_result"
    }
   ],
   "source": [
    "# On a observé des magasins qui sont labelisés 2 fois.\n",
    "transactions.loc[transactions.shop_id == 0, \"shop_id\"] = 57\n",
    "test.loc[test.shop_id == 0 , \"shop_id\"] = 57\n",
    "transactions.loc[transactions.shop_id == 1, \"shop_id\"] = 58\n",
    "test.loc[test.shop_id == 1 , \"shop_id\"] = 58\n",
    "transactions.loc[transactions.shop_id == 11, \"shop_id\"] = 10\n",
    "test.loc[test.shop_id == 11, \"shop_id\"] = 10\n",
    "transactions.loc[transactions.shop_id == 40, \"shop_id\"] = 39\n",
    "test.loc[test.shop_id == 40, \"shop_id\"] = 39\n",
    "\n",
    "## La première partie du nom de magasin est la ville, on va encoder son zip code \n",
    "#Correction pour un ville en 2 partie. \n",
    "shops.loc[ shops.shop_name == 'Сергиев Посад ТЦ \"7Я\"',\"shop_name\" ] = 'СергиевПосад ТЦ \"7Я\"'\n",
    "\n",
    "shops['city'] = shops['shop_name'].str.split(' ').map(lambda x: x[0])\n",
    "shops.loc[shops.city == \"!Якутск\", \"city\"] = \"Якутск\"\n",
    "# ET on encode\n",
    "shops['city_code'] = LabelEncoder().fit_transform(shops['city'])\n",
    "\n",
    "# Liste correspondante aux valeurs : [\"Centre commercial\", \"centre commercial\", \"centre commercial\", \"commerce\",«Urgences», «MTRC», «Shop», «TK»,«entrepôt»]\n",
    "# Qui correspondent au type de magasin, que l'on trouve dans la deuxième partie du split. \n",
    "shops[\"complex\"] = shops.shop_name.str.split(\" \").map( lambda x: x[1] )\n",
    "complex_list = ['ТЦ', 'ТРК', 'ТРЦ', 'ТК']\n",
    "\n",
    "# On applique cette transformation et on met other sur le reste. \n",
    "shops['complex_code'] = shops.complex.map(lambda x: x if x in complex_list else 'other')\n",
    "\n",
    "# Et on encode ! \n",
    "shops['complex_code'] = LabelEncoder().fit_transform(shops['complex_code'])\n",
    "\n",
    "shops = shops[['shop_id','city_code','complex_code']]\n",
    "shops.head(2)"
   ]
  },
  {
   "cell_type": "markdown",
   "metadata": {},
   "source": [
    "#### Item categories\n",
    "\n",
    " La categorie de jeu est ecrite ainsi : type - sous type. On va donc extraire le type puis le sous titre et les encoder\n"
   ]
  },
  {
   "cell_type": "code",
   "execution_count": 85,
   "metadata": {},
   "outputs": [
    {
     "data": {
      "text/html": [
       "<div>\n",
       "<style scoped>\n",
       "    .dataframe tbody tr th:only-of-type {\n",
       "        vertical-align: middle;\n",
       "    }\n",
       "\n",
       "    .dataframe tbody tr th {\n",
       "        vertical-align: top;\n",
       "    }\n",
       "\n",
       "    .dataframe thead th {\n",
       "        text-align: right;\n",
       "    }\n",
       "</style>\n",
       "<table border=\"1\" class=\"dataframe\">\n",
       "  <thead>\n",
       "    <tr style=\"text-align: right;\">\n",
       "      <th></th>\n",
       "      <th>item_category_name</th>\n",
       "      <th>item_category_id</th>\n",
       "    </tr>\n",
       "  </thead>\n",
       "  <tbody>\n",
       "    <tr>\n",
       "      <th>0</th>\n",
       "      <td>PC - Гарнитуры/Наушники</td>\n",
       "      <td>0</td>\n",
       "    </tr>\n",
       "    <tr>\n",
       "      <th>1</th>\n",
       "      <td>Аксессуары - PS2</td>\n",
       "      <td>1</td>\n",
       "    </tr>\n",
       "  </tbody>\n",
       "</table>\n",
       "</div>"
      ],
      "text/plain": [
       "        item_category_name  item_category_id\n",
       "0  PC - Гарнитуры/Наушники                 0\n",
       "1         Аксессуары - PS2                 1"
      ]
     },
     "execution_count": 85,
     "metadata": {},
     "output_type": "execute_result"
    }
   ],
   "source": [
    "item_categories.head(2)"
   ]
  },
  {
   "cell_type": "code",
   "execution_count": 86,
   "metadata": {},
   "outputs": [
    {
     "data": {
      "text/html": [
       "<div>\n",
       "<style scoped>\n",
       "    .dataframe tbody tr th:only-of-type {\n",
       "        vertical-align: middle;\n",
       "    }\n",
       "\n",
       "    .dataframe tbody tr th {\n",
       "        vertical-align: top;\n",
       "    }\n",
       "\n",
       "    .dataframe thead th {\n",
       "        text-align: right;\n",
       "    }\n",
       "</style>\n",
       "<table border=\"1\" class=\"dataframe\">\n",
       "  <thead>\n",
       "    <tr style=\"text-align: right;\">\n",
       "      <th></th>\n",
       "      <th>item_category_id</th>\n",
       "      <th>type_code</th>\n",
       "      <th>subtype_code</th>\n",
       "    </tr>\n",
       "  </thead>\n",
       "  <tbody>\n",
       "    <tr>\n",
       "      <th>0</th>\n",
       "      <td>0</td>\n",
       "      <td>0</td>\n",
       "      <td>29</td>\n",
       "    </tr>\n",
       "    <tr>\n",
       "      <th>1</th>\n",
       "      <td>1</td>\n",
       "      <td>1</td>\n",
       "      <td>9</td>\n",
       "    </tr>\n",
       "  </tbody>\n",
       "</table>\n",
       "</div>"
      ],
      "text/plain": [
       "   item_category_id  type_code  subtype_code\n",
       "0                 0          0            29\n",
       "1                 1          1             9"
      ]
     },
     "execution_count": 86,
     "metadata": {},
     "output_type": "execute_result"
    }
   ],
   "source": [
    "\n",
    "# La categorie de jeu est ecrite ainsi : type - sous type. On va donc extraire le type puis le sous titre\n",
    "item_categories['split'] = item_categories['item_category_name'].str.split('-')\n",
    "\n",
    "item_categories['type'] = item_categories['split'].map(lambda x: x[0])\n",
    "\n",
    "# On ne va encoder que les catégories significativement grandes. \n",
    "\n",
    "category = []\n",
    "for cat in item_categories.type.unique():\n",
    "    if len(item_categories[item_categories.type == cat]) > 4: \n",
    "        category.append( cat )\n",
    "\n",
    "        \n",
    "item_categories['type'] = item_categories['type'].map(lambda x: x.strip() if x in category else 'other')\n",
    "item_categories['type_code'] = LabelEncoder().fit_transform(item_categories['type'])\n",
    "\n",
    "#Sous type\n",
    "item_categories['subtype'] = item_categories['split'].map(lambda x: x[1].strip() if len(x) > 1 else x[0].strip())\n",
    "item_categories['subtype_code'] = LabelEncoder().fit_transform(item_categories['subtype'])\n",
    "\n",
    "item_categories = item_categories[['item_category_id','type_code', 'subtype_code']]\n",
    "\n",
    "item_categories.head(2)"
   ]
  },
  {
   "cell_type": "code",
   "execution_count": 87,
   "metadata": {},
   "outputs": [
    {
     "name": "stdout",
     "output_type": "stream",
     "text": [
      "On a 31 villes differentes, 9 types et 65 sous types de categories\n"
     ]
    }
   ],
   "source": [
    "print('On a {} villes differentes, {} types et {} sous types de categories'\n",
    "     .format(shops.city_code.nunique(),item_categories.type_code.nunique(),item_categories.subtype_code.nunique()))"
   ]
  },
  {
   "cell_type": "markdown",
   "metadata": {},
   "source": [
    "#### Item name\n",
    "\n",
    "Les noms d'items ont été volontairement abimés, il faut donc les corriger pour faire disparaitre les caractères sauvages. \n",
    "\n",
    "On va ensuite decomposer le nom pour faire apparaitre des categories (ex : PSP, XBOX...) \n",
    "En étudiant la structure du nom, il est en 3 parties, on va les faire aparaitre. \n"
   ]
  },
  {
   "cell_type": "code",
   "execution_count": 88,
   "metadata": {},
   "outputs": [
    {
     "data": {
      "text/html": [
       "<div>\n",
       "<style scoped>\n",
       "    .dataframe tbody tr th:only-of-type {\n",
       "        vertical-align: middle;\n",
       "    }\n",
       "\n",
       "    .dataframe tbody tr th {\n",
       "        vertical-align: top;\n",
       "    }\n",
       "\n",
       "    .dataframe thead th {\n",
       "        text-align: right;\n",
       "    }\n",
       "</style>\n",
       "<table border=\"1\" class=\"dataframe\">\n",
       "  <thead>\n",
       "    <tr style=\"text-align: right;\">\n",
       "      <th></th>\n",
       "      <th>item_name</th>\n",
       "      <th>item_id</th>\n",
       "      <th>item_category_id</th>\n",
       "    </tr>\n",
       "  </thead>\n",
       "  <tbody>\n",
       "    <tr>\n",
       "      <th>0</th>\n",
       "      <td>! ВО ВЛАСТИ НАВАЖДЕНИЯ (ПЛАСТ.)         D</td>\n",
       "      <td>0</td>\n",
       "      <td>40</td>\n",
       "    </tr>\n",
       "    <tr>\n",
       "      <th>1</th>\n",
       "      <td>!ABBYY FineReader 12 Professional Edition Full...</td>\n",
       "      <td>1</td>\n",
       "      <td>76</td>\n",
       "    </tr>\n",
       "  </tbody>\n",
       "</table>\n",
       "</div>"
      ],
      "text/plain": [
       "                                           item_name  item_id  \\\n",
       "0          ! ВО ВЛАСТИ НАВАЖДЕНИЯ (ПЛАСТ.)         D        0   \n",
       "1  !ABBYY FineReader 12 Professional Edition Full...        1   \n",
       "\n",
       "   item_category_id  \n",
       "0                40  \n",
       "1                76  "
      ]
     },
     "execution_count": 88,
     "metadata": {},
     "output_type": "execute_result"
    }
   ],
   "source": [
    "items.head(2)"
   ]
  },
  {
   "cell_type": "code",
   "execution_count": 89,
   "metadata": {},
   "outputs": [
    {
     "name": "stderr",
     "output_type": "stream",
     "text": [
      "C:\\Users\\leo\\Anaconda3\\lib\\site-packages\\ipykernel_launcher.py:13: FutureWarning: Columnar iteration over characters will be deprecated in future releases.\n",
      "  del sys.path[0]\n",
      "C:\\Users\\leo\\Anaconda3\\lib\\site-packages\\ipykernel_launcher.py:14: FutureWarning: Columnar iteration over characters will be deprecated in future releases.\n",
      "  \n"
     ]
    },
    {
     "data": {
      "text/html": [
       "<div>\n",
       "<style scoped>\n",
       "    .dataframe tbody tr th:only-of-type {\n",
       "        vertical-align: middle;\n",
       "    }\n",
       "\n",
       "    .dataframe tbody tr th {\n",
       "        vertical-align: top;\n",
       "    }\n",
       "\n",
       "    .dataframe thead th {\n",
       "        text-align: right;\n",
       "    }\n",
       "</style>\n",
       "<table border=\"1\" class=\"dataframe\">\n",
       "  <thead>\n",
       "    <tr style=\"text-align: right;\">\n",
       "      <th></th>\n",
       "      <th>item_id</th>\n",
       "      <th>item_category_id</th>\n",
       "      <th>name2</th>\n",
       "      <th>name3</th>\n",
       "      <th>type</th>\n",
       "    </tr>\n",
       "  </thead>\n",
       "  <tbody>\n",
       "    <tr>\n",
       "      <th>0</th>\n",
       "      <td>0</td>\n",
       "      <td>40</td>\n",
       "      <td>4</td>\n",
       "      <td>1331</td>\n",
       "      <td>0</td>\n",
       "    </tr>\n",
       "    <tr>\n",
       "      <th>1</th>\n",
       "      <td>1</td>\n",
       "      <td>76</td>\n",
       "      <td>64</td>\n",
       "      <td>42</td>\n",
       "      <td>3</td>\n",
       "    </tr>\n",
       "  </tbody>\n",
       "</table>\n",
       "</div>"
      ],
      "text/plain": [
       "   item_id  item_category_id  name2  name3  type\n",
       "0        0                40      4   1331     0\n",
       "1        1                76     64     42     3"
      ]
     },
     "execution_count": 89,
     "metadata": {},
     "output_type": "execute_result"
    }
   ],
   "source": [
    "import re\n",
    "# Cette fonction nous sert à decoder le nom.\n",
    "def name_correction(x):\n",
    "    x = x.lower()\n",
    "    x = x.partition('[')[0]\n",
    "    x = x.partition('(')[0]\n",
    "    x = re.sub('[^A-Za-z0-9А-Яа-я]+', ' ', x)\n",
    "    x = x.replace('  ', ' ')\n",
    "    x = x.strip()\n",
    "    return x\n",
    "\n",
    "\n",
    "items[\"name1\"], items[\"name2\"] = items.item_name.str.split(\"[\", 1).str\n",
    "items[\"name1\"], items[\"name3\"] = items.item_name.str.split(\"(\", 1).str\n",
    "\n",
    "items[\"name2\"] = items.name2.str.replace('[^A-Za-z0-9А-Яа-я]+', \" \").str.lower()\n",
    "items[\"name3\"] = items.name3.str.replace('[^A-Za-z0-9А-Яа-я]+', \" \").str.lower()\n",
    "items = items.fillna('0')\n",
    "\n",
    "items[\"item_name\"] = items[\"item_name\"].apply(lambda x: name_correction(x))\n",
    "items.name2 = items.name2.apply( lambda x: x[:-1] if x !=\"0\" else \"0\")\n",
    "\n",
    "items[\"type\"] = items.name2.apply(lambda x: x[0:8] if x.split(\" \")[0] == \"xbox\" else x.split(\" \")[0] )\n",
    "items.loc[(items.type == \"x360\") | (items.type == \"xbox360\") | (items.type == \"xbox 360\") ,\"type\"] = \"xbox 360\"\n",
    "items.loc[ items.type == \"\", \"type\"] = \"mac\"\n",
    "items.type = items.type.apply( lambda x: x.replace(\" \", \"\") )\n",
    "items.loc[ (items.type == 'pc' )| (items.type == 'pс') | (items.type == \"рс\"), \"type\" ] = \"pc\"\n",
    "items.loc[(items.type == 'рс' )|(items.type == 'pc' ),'type']= 'pc'\n",
    "items.loc[ items.type == 'рs3' , \"type\"] = \"ps3\"\n",
    "\n",
    "group_sum = items.groupby([\"type\"]).agg({\"item_id\": \"count\"}).reset_index()\n",
    "\n",
    "drop_type = []\n",
    "for cat in group_sum.type.unique():\n",
    "    if group_sum.loc[(group_sum.type == cat), \"item_id\"].values[0] <40:\n",
    "        drop_type.append(cat)\n",
    "        \n",
    "items.name2 = items.name2.apply( lambda x: \"etc\" if (x in drop_type) else x )\n",
    "items.type = items.type.apply( lambda x: \"etc\" if (x in drop_type) else x )\n",
    "\n",
    "# Et on encode\n",
    "items.name2 = LabelEncoder().fit_transform(items.name2)\n",
    "items.name3 = LabelEncoder().fit_transform(items.name3)\n",
    "items.type = LabelEncoder().fit_transform(items.type)\n",
    "\n",
    "items.drop([\"item_name\", \"name1\"],axis = 1, inplace= True)\n",
    "items.head(2)\n"
   ]
  },
  {
   "cell_type": "markdown",
   "metadata": {},
   "source": [
    "### Construisons le train data set\n",
    "\n",
    "On met item_count_day à Zero les retours de produits (<0) Car ils contiennent des informations sur le prix de retour. et c'est assez precieux\n"
   ]
  },
  {
   "cell_type": "code",
   "execution_count": 90,
   "metadata": {},
   "outputs": [
    {
     "name": "stderr",
     "output_type": "stream",
     "text": [
      "C:\\Users\\leo\\Anaconda3\\lib\\site-packages\\ipykernel_launcher.py:12: UserWarning: Pandas doesn't allow columns to be created via a new attribute name - see https://pandas.pydata.org/pandas-docs/stable/indexing.html#attribute-access\n",
      "  if sys.path[0] == '':\n"
     ]
    },
    {
     "data": {
      "text/html": [
       "<div>\n",
       "<style scoped>\n",
       "    .dataframe tbody tr th:only-of-type {\n",
       "        vertical-align: middle;\n",
       "    }\n",
       "\n",
       "    .dataframe tbody tr th {\n",
       "        vertical-align: top;\n",
       "    }\n",
       "\n",
       "    .dataframe thead th {\n",
       "        text-align: right;\n",
       "    }\n",
       "</style>\n",
       "<table border=\"1\" class=\"dataframe\">\n",
       "  <thead>\n",
       "    <tr style=\"text-align: right;\">\n",
       "      <th></th>\n",
       "      <th>date</th>\n",
       "      <th>date_block_num</th>\n",
       "      <th>shop_id</th>\n",
       "      <th>item_id</th>\n",
       "      <th>item_price</th>\n",
       "      <th>item_cnt_day</th>\n",
       "      <th>month</th>\n",
       "      <th>year</th>\n",
       "      <th>max_days</th>\n",
       "    </tr>\n",
       "  </thead>\n",
       "  <tbody>\n",
       "    <tr>\n",
       "      <th>0</th>\n",
       "      <td>2013-01-02</td>\n",
       "      <td>0</td>\n",
       "      <td>59</td>\n",
       "      <td>22154</td>\n",
       "      <td>999.0</td>\n",
       "      <td>1.0</td>\n",
       "      <td>1</td>\n",
       "      <td>2013</td>\n",
       "      <td>31</td>\n",
       "    </tr>\n",
       "    <tr>\n",
       "      <th>1</th>\n",
       "      <td>2013-01-03</td>\n",
       "      <td>0</td>\n",
       "      <td>25</td>\n",
       "      <td>2552</td>\n",
       "      <td>899.0</td>\n",
       "      <td>1.0</td>\n",
       "      <td>1</td>\n",
       "      <td>2013</td>\n",
       "      <td>31</td>\n",
       "    </tr>\n",
       "  </tbody>\n",
       "</table>\n",
       "</div>"
      ],
      "text/plain": [
       "        date  date_block_num  shop_id  item_id  item_price  item_cnt_day  \\\n",
       "0 2013-01-02               0       59    22154       999.0           1.0   \n",
       "1 2013-01-03               0       25     2552       899.0           1.0   \n",
       "\n",
       "   month  year  max_days  \n",
       "0      1  2013        31  \n",
       "1      1  2013        31  "
      ]
     },
     "execution_count": 90,
     "metadata": {},
     "output_type": "execute_result"
    }
   ],
   "source": [
    "# On elève les Outliers \n",
    "\n",
    "transactions = transactions.loc[transactions.item_price<100000]\n",
    "transactions = transactions.loc[transactions.item_price> 0]\n",
    "transactions = transactions.loc[transactions.item_cnt_day<1001 ]\n",
    "# On met à Zero les retours de produits (Car ils contiennent des informations sur le prix de retour.)\n",
    "transactions.loc[transactions.item_cnt_day < 1, \"item_cnt_day\"] = 0\n",
    "\n",
    "\n",
    "# Transformations sur les dates\n",
    "transactions.date = pd.to_datetime(transactions.date, format='%d.%m.%Y')\n",
    "transactions.date_index = pd.DatetimeIndex(transactions['date'])\n",
    "transactions['month'] = transactions.date_index.month\n",
    "transactions['year'] = transactions.date_index.year\n",
    "transactions['max_days'] = transactions.date_index.daysinmonth\n",
    "\n",
    "transactions.head(2)"
   ]
  },
  {
   "cell_type": "markdown",
   "metadata": {},
   "source": [
    "# Feature generation"
   ]
  },
  {
   "cell_type": "markdown",
   "metadata": {},
   "source": [
    "On va donc, comme on l'a vu en première partie, gréer une grille avec toutes les possibilitées de ventes pour chaque mois et on va ensuite merge avec les donnes que l'on a. \n"
   ]
  },
  {
   "cell_type": "code",
   "execution_count": 91,
   "metadata": {},
   "outputs": [
    {
     "data": {
      "text/html": [
       "<div>\n",
       "<style scoped>\n",
       "    .dataframe tbody tr th:only-of-type {\n",
       "        vertical-align: middle;\n",
       "    }\n",
       "\n",
       "    .dataframe tbody tr th {\n",
       "        vertical-align: top;\n",
       "    }\n",
       "\n",
       "    .dataframe thead th {\n",
       "        text-align: right;\n",
       "    }\n",
       "</style>\n",
       "<table border=\"1\" class=\"dataframe\">\n",
       "  <thead>\n",
       "    <tr style=\"text-align: right;\">\n",
       "      <th></th>\n",
       "      <th>date_block_num</th>\n",
       "      <th>shop_id</th>\n",
       "      <th>item_id</th>\n",
       "    </tr>\n",
       "  </thead>\n",
       "  <tbody>\n",
       "    <tr>\n",
       "      <th>0</th>\n",
       "      <td>0</td>\n",
       "      <td>2</td>\n",
       "      <td>27</td>\n",
       "    </tr>\n",
       "    <tr>\n",
       "      <th>1</th>\n",
       "      <td>0</td>\n",
       "      <td>2</td>\n",
       "      <td>33</td>\n",
       "    </tr>\n",
       "  </tbody>\n",
       "</table>\n",
       "</div>"
      ],
      "text/plain": [
       "   date_block_num  shop_id  item_id\n",
       "0               0        2       27\n",
       "1               0        2       33"
      ]
     },
     "execution_count": 91,
     "metadata": {},
     "output_type": "execute_result"
    }
   ],
   "source": [
    "data = pd.DataFrame(transactions.groupby(['date_block_num','shop_id','item_id','month','year','max_days'])['item_cnt_day'].sum())\n",
    "data.reset_index(inplace=True)\n",
    "\n",
    "## On va construire un grid, avec toutes les possibilitées de ventes \n",
    "\n",
    "### Matrix\n",
    "\n",
    "import itertools\n",
    "data_full = []\n",
    "for i in range(34):\n",
    "    data_list_1 = data[data.date_block_num==i].date_block_num.unique().tolist()\n",
    "    data_list_2 = data[data.date_block_num==i].shop_id.unique().tolist()\n",
    "    data_list_3 = data[data.date_block_num==i].item_id.unique().tolist()\n",
    "\n",
    "    data_list_f1=list(itertools.product(data_list_1,data_list_2,data_list_3))\n",
    "    data_full.append(data_list_f1)\n",
    "\n",
    "\n",
    "data_full = pd.DataFrame(np.vstack(data_full) )\n",
    "data_full.rename(columns={0: \"date_block_num\", 1: \"shop_id\", 2: \"item_id\"} , inplace = True)\n",
    "\n",
    "data_full[\"date_block_num\"] = data_full[\"date_block_num\"].astype(np.int8)\n",
    "data_full[\"shop_id\"] = data_full[\"shop_id\"].astype(np.int8)\n",
    "data_full[\"item_id\"] = data_full[\"item_id\"].astype(np.int16)\n",
    "\n",
    "data_full.head(2)"
   ]
  },
  {
   "cell_type": "markdown",
   "metadata": {},
   "source": [
    "On ajoute des variabes sur le temps et on concatenate avec le test set"
   ]
  },
  {
   "cell_type": "code",
   "execution_count": 92,
   "metadata": {},
   "outputs": [
    {
     "data": {
      "text/html": [
       "<div>\n",
       "<style scoped>\n",
       "    .dataframe tbody tr th:only-of-type {\n",
       "        vertical-align: middle;\n",
       "    }\n",
       "\n",
       "    .dataframe tbody tr th {\n",
       "        vertical-align: top;\n",
       "    }\n",
       "\n",
       "    .dataframe thead th {\n",
       "        text-align: right;\n",
       "    }\n",
       "</style>\n",
       "<table border=\"1\" class=\"dataframe\">\n",
       "  <thead>\n",
       "    <tr style=\"text-align: right;\">\n",
       "      <th></th>\n",
       "      <th>date_block_num</th>\n",
       "      <th>shop_id</th>\n",
       "      <th>item_id</th>\n",
       "      <th>month</th>\n",
       "      <th>year</th>\n",
       "      <th>max_days</th>\n",
       "      <th>busy_days</th>\n",
       "      <th>Y</th>\n",
       "    </tr>\n",
       "  </thead>\n",
       "  <tbody>\n",
       "    <tr>\n",
       "      <th>0</th>\n",
       "      <td>0</td>\n",
       "      <td>2</td>\n",
       "      <td>27</td>\n",
       "      <td>1</td>\n",
       "      <td>2013</td>\n",
       "      <td>31</td>\n",
       "      <td>22</td>\n",
       "      <td>1.0</td>\n",
       "    </tr>\n",
       "    <tr>\n",
       "      <th>1</th>\n",
       "      <td>0</td>\n",
       "      <td>2</td>\n",
       "      <td>33</td>\n",
       "      <td>1</td>\n",
       "      <td>2013</td>\n",
       "      <td>31</td>\n",
       "      <td>22</td>\n",
       "      <td>1.0</td>\n",
       "    </tr>\n",
       "  </tbody>\n",
       "</table>\n",
       "</div>"
      ],
      "text/plain": [
       "   date_block_num  shop_id  item_id  month  year  max_days  busy_days    Y\n",
       "0               0        2       27      1  2013        31         22  1.0\n",
       "1               0        2       33      1  2013        31         22  1.0"
      ]
     },
     "execution_count": 92,
     "metadata": {},
     "output_type": "execute_result"
    }
   ],
   "source": [
    "#### Time\n",
    "\n",
    "# On va ajouter les jours ouvrés. Le calcul étant copieux, on va construire un sous tableau de dates et ensuite merge. \n",
    "data_time = data[['date_block_num','month','year','max_days']].drop_duplicates()\n",
    "data_time['busy_days']  = [np.busday_count(dt.date(year=int(x[1].year), month=int(x[1].month), day=1),dt.date(year=int(x[1].year), month=int(x[1].month), day=int(x[1].max_days))) for x in data_time.iterrows()]\n",
    "data = data.drop(['month','year','max_days'],axis = 1)\n",
    "data_full = data_full.merge(data_time,left_on = 'date_block_num',right_on = 'date_block_num',how = 'left')\n",
    "del data_time\n",
    "\n",
    "## J'ajoute pour l'instant le test set au bout pour produire les bonnes variables test\n",
    "test['date_block_num']= 34\n",
    "test['month'] = 11\n",
    "test['year'] = 2015\n",
    "test['max_days'] = 30\n",
    "test['busy_days']  = np.busday_count(dt.date(year=2015, month=11, day=1),dt.date(year=2015, month= 11, day=30))\n",
    "\n",
    "test = test[['date_block_num', 'shop_id', 'item_id', 'month', 'year', 'max_days', 'busy_days']]\n",
    "\n",
    "## Concatenation\n",
    "data_full = pd.concat([data_full, test]).reset_index(drop=True)\n",
    "\n",
    "# On ajoute à notre grand tableau les ventes precedement calculées \n",
    "data_full = data_full.merge(data,on = ['date_block_num','shop_id','item_id'],how = 'left')\n",
    "\n",
    "\n",
    "#### Target\n",
    "#On a beaucoup de valeurs nulles ( 85%), alors, on fill avec des Zeros car pas de ventes? Et on clip les ventes dans (0,20)\n",
    "data_full = data_full.rename(columns = {'item_cnt_day' : 'Y'})\n",
    "data_full['Y'] = (data_full['Y'].fillna(0)\n",
    "                                .clip(0,20) \n",
    "                                .astype(np.float32))\n",
    "\n",
    "# On ne garde que data_full dans data. \n",
    "data = data_full.copy()\n",
    "del data_full\n",
    "\n",
    "data.head(2)"
   ]
  },
  {
   "cell_type": "markdown",
   "metadata": {},
   "source": [
    "Une fois que l'on a fait ça, on merge avec les tableaux que l'on a precedement calculé ! "
   ]
  },
  {
   "cell_type": "code",
   "execution_count": 93,
   "metadata": {},
   "outputs": [
    {
     "data": {
      "text/html": [
       "<div>\n",
       "<style scoped>\n",
       "    .dataframe tbody tr th:only-of-type {\n",
       "        vertical-align: middle;\n",
       "    }\n",
       "\n",
       "    .dataframe tbody tr th {\n",
       "        vertical-align: top;\n",
       "    }\n",
       "\n",
       "    .dataframe thead th {\n",
       "        text-align: right;\n",
       "    }\n",
       "</style>\n",
       "<table border=\"1\" class=\"dataframe\">\n",
       "  <thead>\n",
       "    <tr style=\"text-align: right;\">\n",
       "      <th></th>\n",
       "      <th>date_block_num</th>\n",
       "      <th>shop_id</th>\n",
       "      <th>item_id</th>\n",
       "      <th>month</th>\n",
       "      <th>year</th>\n",
       "      <th>max_days</th>\n",
       "      <th>busy_days</th>\n",
       "      <th>Y</th>\n",
       "      <th>city_code</th>\n",
       "      <th>complex_code</th>\n",
       "      <th>item_category_id</th>\n",
       "      <th>name2</th>\n",
       "      <th>name3</th>\n",
       "      <th>type</th>\n",
       "      <th>type_code</th>\n",
       "      <th>subtype_code</th>\n",
       "    </tr>\n",
       "  </thead>\n",
       "  <tbody>\n",
       "    <tr>\n",
       "      <th>0</th>\n",
       "      <td>0</td>\n",
       "      <td>2</td>\n",
       "      <td>27</td>\n",
       "      <td>1</td>\n",
       "      <td>2013</td>\n",
       "      <td>31</td>\n",
       "      <td>22</td>\n",
       "      <td>1.0</td>\n",
       "      <td>0</td>\n",
       "      <td>4</td>\n",
       "      <td>19</td>\n",
       "      <td>76</td>\n",
       "      <td>42</td>\n",
       "      <td>5</td>\n",
       "      <td>3</td>\n",
       "      <td>10</td>\n",
       "    </tr>\n",
       "    <tr>\n",
       "      <th>1</th>\n",
       "      <td>0</td>\n",
       "      <td>2</td>\n",
       "      <td>33</td>\n",
       "      <td>1</td>\n",
       "      <td>2013</td>\n",
       "      <td>31</td>\n",
       "      <td>22</td>\n",
       "      <td>1.0</td>\n",
       "      <td>0</td>\n",
       "      <td>4</td>\n",
       "      <td>37</td>\n",
       "      <td>4</td>\n",
       "      <td>562</td>\n",
       "      <td>0</td>\n",
       "      <td>4</td>\n",
       "      <td>1</td>\n",
       "    </tr>\n",
       "  </tbody>\n",
       "</table>\n",
       "</div>"
      ],
      "text/plain": [
       "   date_block_num  shop_id  item_id  month  year  max_days  busy_days    Y  \\\n",
       "0               0        2       27      1  2013        31         22  1.0   \n",
       "1               0        2       33      1  2013        31         22  1.0   \n",
       "\n",
       "   city_code  complex_code  item_category_id  name2  name3  type  type_code  \\\n",
       "0          0             4                19     76     42     5          3   \n",
       "1          0             4                37      4    562     0          4   \n",
       "\n",
       "   subtype_code  \n",
       "0            10  \n",
       "1             1  "
      ]
     },
     "execution_count": 93,
     "metadata": {},
     "output_type": "execute_result"
    }
   ],
   "source": [
    "#### Merging \n",
    "\n",
    "# J'ajoute les villes des magasins\n",
    "data = data.merge(shops,left_on = 'shop_id',right_on = 'shop_id', how = 'left')\n",
    "\n",
    "# J'ajoute les categories des produits\n",
    "data = data.merge(items,on = 'item_id', how = 'left')\n",
    "#data = data.drop('item_name',axis =1)\n",
    "\n",
    "# J'ajoute les sous-categories des produits\n",
    "data = data.merge(item_categories,left_on = 'item_category_id',right_on = 'item_category_id', how = 'left')\n",
    "\n",
    "data.head(2)"
   ]
  },
  {
   "cell_type": "markdown",
   "metadata": {},
   "source": [
    "## Price calculation \n",
    "Une composante essentielle des ventes est le prix. On va créer quelques features correspondantes."
   ]
  },
  {
   "cell_type": "code",
   "execution_count": 94,
   "metadata": {},
   "outputs": [
    {
     "data": {
      "text/html": [
       "<div>\n",
       "<style scoped>\n",
       "    .dataframe tbody tr th:only-of-type {\n",
       "        vertical-align: middle;\n",
       "    }\n",
       "\n",
       "    .dataframe tbody tr th {\n",
       "        vertical-align: top;\n",
       "    }\n",
       "\n",
       "    .dataframe thead th {\n",
       "        text-align: right;\n",
       "    }\n",
       "</style>\n",
       "<table border=\"1\" class=\"dataframe\">\n",
       "  <thead>\n",
       "    <tr style=\"text-align: right;\">\n",
       "      <th></th>\n",
       "      <th>date_block_num</th>\n",
       "      <th>shop_id</th>\n",
       "      <th>item_id</th>\n",
       "      <th>month</th>\n",
       "      <th>year</th>\n",
       "      <th>max_days</th>\n",
       "      <th>busy_days</th>\n",
       "      <th>Y</th>\n",
       "      <th>city_code</th>\n",
       "      <th>complex_code</th>\n",
       "      <th>item_category_id</th>\n",
       "      <th>name2</th>\n",
       "      <th>name3</th>\n",
       "      <th>type</th>\n",
       "      <th>type_code</th>\n",
       "      <th>subtype_code</th>\n",
       "      <th>item_avg_item_price</th>\n",
       "      <th>date_item_avg_item_price</th>\n",
       "    </tr>\n",
       "  </thead>\n",
       "  <tbody>\n",
       "    <tr>\n",
       "      <th>0</th>\n",
       "      <td>0</td>\n",
       "      <td>2</td>\n",
       "      <td>27</td>\n",
       "      <td>1</td>\n",
       "      <td>2013</td>\n",
       "      <td>31</td>\n",
       "      <td>22</td>\n",
       "      <td>1.0</td>\n",
       "      <td>0</td>\n",
       "      <td>4</td>\n",
       "      <td>19</td>\n",
       "      <td>76</td>\n",
       "      <td>42</td>\n",
       "      <td>5</td>\n",
       "      <td>3</td>\n",
       "      <td>10</td>\n",
       "      <td>1461.000</td>\n",
       "      <td>2324.0</td>\n",
       "    </tr>\n",
       "    <tr>\n",
       "      <th>1</th>\n",
       "      <td>0</td>\n",
       "      <td>2</td>\n",
       "      <td>33</td>\n",
       "      <td>1</td>\n",
       "      <td>2013</td>\n",
       "      <td>31</td>\n",
       "      <td>22</td>\n",
       "      <td>1.0</td>\n",
       "      <td>0</td>\n",
       "      <td>4</td>\n",
       "      <td>37</td>\n",
       "      <td>4</td>\n",
       "      <td>562</td>\n",
       "      <td>0</td>\n",
       "      <td>4</td>\n",
       "      <td>1</td>\n",
       "      <td>252.875</td>\n",
       "      <td>488.5</td>\n",
       "    </tr>\n",
       "  </tbody>\n",
       "</table>\n",
       "</div>"
      ],
      "text/plain": [
       "   date_block_num  shop_id  item_id  month  year  max_days  busy_days    Y  \\\n",
       "0               0        2       27      1  2013        31         22  1.0   \n",
       "1               0        2       33      1  2013        31         22  1.0   \n",
       "\n",
       "   city_code  complex_code  item_category_id  name2  name3  type  type_code  \\\n",
       "0          0             4                19     76     42     5          3   \n",
       "1          0             4                37      4    562     0          4   \n",
       "\n",
       "   subtype_code  item_avg_item_price  date_item_avg_item_price  \n",
       "0            10             1461.000                    2324.0  \n",
       "1             1              252.875                     488.5  "
      ]
     },
     "execution_count": 94,
     "metadata": {},
     "output_type": "execute_result"
    }
   ],
   "source": [
    "### Price\n",
    "\n",
    "# Prix moyen total du produit\n",
    "group = transactions.groupby( [\"item_id\"] ).agg({\"item_price\": [\"mean\"]})\n",
    "group.columns = [\"item_avg_item_price\"]\n",
    "group.reset_index(inplace = True)\n",
    "\n",
    "data = data.merge( group, on = [\"item_id\"], how = \"left\" )\n",
    "data[\"item_avg_item_price\"] = data.item_avg_item_price.astype(np.float16)\n",
    "\n",
    "\n",
    "# Prix moyen sur la periode du produit\n",
    "group = transactions.groupby( [\"date_block_num\",\"item_id\"] ).agg( {\"item_price\": [\"mean\"]} )\n",
    "group.columns = [\"date_item_avg_item_price\"]\n",
    "group.reset_index(inplace = True)\n",
    "\n",
    "data = data.merge(group, on = [\"date_block_num\",\"item_id\"], how = \"left\")\n",
    "data[\"date_item_avg_item_price\"] = data.date_item_avg_item_price.astype(np.float16)\n",
    "\n",
    "\n",
    "\n",
    "### Save\n",
    "# On n'a plus besoin des transactions pour le moment, on libère la mémoire\n",
    "pickle.dump(transactions, open('Pickle_save/transactions', 'wb'))\n",
    "del transactions\n",
    "data.head(2)"
   ]
  },
  {
   "cell_type": "markdown",
   "metadata": {},
   "source": [
    "Il peut être important de savoir si c'est la première fois qu'un magasin vend ce produit ! On va print un exemple de produit qui est nouveau dans le test set. "
   ]
  },
  {
   "cell_type": "code",
   "execution_count": 95,
   "metadata": {},
   "outputs": [
    {
     "data": {
      "text/html": [
       "<div>\n",
       "<style scoped>\n",
       "    .dataframe tbody tr th:only-of-type {\n",
       "        vertical-align: middle;\n",
       "    }\n",
       "\n",
       "    .dataframe tbody tr th {\n",
       "        vertical-align: top;\n",
       "    }\n",
       "\n",
       "    .dataframe thead th {\n",
       "        text-align: right;\n",
       "    }\n",
       "</style>\n",
       "<table border=\"1\" class=\"dataframe\">\n",
       "  <thead>\n",
       "    <tr style=\"text-align: right;\">\n",
       "      <th></th>\n",
       "      <th>date_block_num</th>\n",
       "      <th>shop_id</th>\n",
       "      <th>item_id</th>\n",
       "      <th>month</th>\n",
       "      <th>year</th>\n",
       "      <th>max_days</th>\n",
       "      <th>busy_days</th>\n",
       "      <th>Y</th>\n",
       "      <th>city_code</th>\n",
       "      <th>complex_code</th>\n",
       "      <th>item_category_id</th>\n",
       "      <th>name2</th>\n",
       "      <th>name3</th>\n",
       "      <th>type</th>\n",
       "      <th>type_code</th>\n",
       "      <th>subtype_code</th>\n",
       "      <th>item_avg_item_price</th>\n",
       "      <th>date_item_avg_item_price</th>\n",
       "      <th>item_shop_first_sale</th>\n",
       "      <th>item_first_sale</th>\n",
       "    </tr>\n",
       "  </thead>\n",
       "  <tbody>\n",
       "    <tr>\n",
       "      <th>10842078</th>\n",
       "      <td>34</td>\n",
       "      <td>5</td>\n",
       "      <td>5320</td>\n",
       "      <td>11</td>\n",
       "      <td>2015</td>\n",
       "      <td>30</td>\n",
       "      <td>20</td>\n",
       "      <td>0.0</td>\n",
       "      <td>3</td>\n",
       "      <td>3</td>\n",
       "      <td>55</td>\n",
       "      <td>4</td>\n",
       "      <td>42</td>\n",
       "      <td>0</td>\n",
       "      <td>6</td>\n",
       "      <td>2</td>\n",
       "      <td>NaN</td>\n",
       "      <td>NaN</td>\n",
       "      <td>0</td>\n",
       "      <td>0</td>\n",
       "    </tr>\n",
       "    <tr>\n",
       "      <th>10847178</th>\n",
       "      <td>34</td>\n",
       "      <td>4</td>\n",
       "      <td>5320</td>\n",
       "      <td>11</td>\n",
       "      <td>2015</td>\n",
       "      <td>30</td>\n",
       "      <td>20</td>\n",
       "      <td>0.0</td>\n",
       "      <td>2</td>\n",
       "      <td>4</td>\n",
       "      <td>55</td>\n",
       "      <td>4</td>\n",
       "      <td>42</td>\n",
       "      <td>0</td>\n",
       "      <td>6</td>\n",
       "      <td>2</td>\n",
       "      <td>NaN</td>\n",
       "      <td>NaN</td>\n",
       "      <td>0</td>\n",
       "      <td>0</td>\n",
       "    </tr>\n",
       "  </tbody>\n",
       "</table>\n",
       "</div>"
      ],
      "text/plain": [
       "          date_block_num  shop_id  item_id  month  year  max_days  busy_days  \\\n",
       "10842078              34        5     5320     11  2015        30         20   \n",
       "10847178              34        4     5320     11  2015        30         20   \n",
       "\n",
       "            Y  city_code  complex_code  item_category_id  name2  name3  type  \\\n",
       "10842078  0.0          3             3                55      4     42     0   \n",
       "10847178  0.0          2             4                55      4     42     0   \n",
       "\n",
       "          type_code  subtype_code  item_avg_item_price  \\\n",
       "10842078          6             2                  NaN   \n",
       "10847178          6             2                  NaN   \n",
       "\n",
       "          date_item_avg_item_price  item_shop_first_sale  item_first_sale  \n",
       "10842078                       NaN                     0                0  \n",
       "10847178                       NaN                     0                0  "
      ]
     },
     "execution_count": 95,
     "metadata": {},
     "output_type": "execute_result"
    }
   ],
   "source": [
    "data[\"item_shop_first_sale\"] = data[\"date_block_num\"] - data.groupby([\"item_id\",\"shop_id\"])[\"date_block_num\"].transform('min')\n",
    "data[\"item_first_sale\"] = data[\"date_block_num\"] - data.groupby([\"item_id\"])[\"date_block_num\"].transform('min')\n",
    "data.loc[(data.date_block_num == 34)&(data.item_id == 5320)].head(2)"
   ]
  },
  {
   "cell_type": "markdown",
   "metadata": {},
   "source": [
    "# Feature generation - Lags"
   ]
  },
  {
   "cell_type": "markdown",
   "metadata": {},
   "source": [
    "On s'interesse aux ventes des mois precedents : l'annee derniere, le mois dernier, 2 mois avant et 6 mois avant"
   ]
  },
  {
   "cell_type": "code",
   "execution_count": 96,
   "metadata": {},
   "outputs": [
    {
     "name": "stdout",
     "output_type": "stream",
     "text": [
      "Mem. usage decreased to 516.66 Mb (67.8% reduction)\n"
     ]
    },
    {
     "data": {
      "text/html": [
       "<div>\n",
       "<style scoped>\n",
       "    .dataframe tbody tr th:only-of-type {\n",
       "        vertical-align: middle;\n",
       "    }\n",
       "\n",
       "    .dataframe tbody tr th {\n",
       "        vertical-align: top;\n",
       "    }\n",
       "\n",
       "    .dataframe thead th {\n",
       "        text-align: right;\n",
       "    }\n",
       "</style>\n",
       "<table border=\"1\" class=\"dataframe\">\n",
       "  <thead>\n",
       "    <tr style=\"text-align: right;\">\n",
       "      <th></th>\n",
       "      <th>date_block_num</th>\n",
       "      <th>shop_id</th>\n",
       "      <th>item_id</th>\n",
       "      <th>month</th>\n",
       "      <th>year</th>\n",
       "      <th>max_days</th>\n",
       "      <th>busy_days</th>\n",
       "      <th>Y</th>\n",
       "      <th>city_code</th>\n",
       "      <th>complex_code</th>\n",
       "      <th>...</th>\n",
       "      <th>date_item_avg_item_price</th>\n",
       "      <th>item_shop_first_sale</th>\n",
       "      <th>item_first_sale</th>\n",
       "      <th>Y_lag_1</th>\n",
       "      <th>Y_lag_2</th>\n",
       "      <th>Y_lag_3</th>\n",
       "      <th>Y_lag_4</th>\n",
       "      <th>Y_lag_5</th>\n",
       "      <th>Y_lag_12</th>\n",
       "      <th>Y_lag_mean</th>\n",
       "    </tr>\n",
       "  </thead>\n",
       "  <tbody>\n",
       "    <tr>\n",
       "      <th>10603905</th>\n",
       "      <td>33</td>\n",
       "      <td>2</td>\n",
       "      <td>31</td>\n",
       "      <td>10</td>\n",
       "      <td>2015</td>\n",
       "      <td>31</td>\n",
       "      <td>22</td>\n",
       "      <td>1.0</td>\n",
       "      <td>0</td>\n",
       "      <td>4</td>\n",
       "      <td>...</td>\n",
       "      <td>376.75</td>\n",
       "      <td>32</td>\n",
       "      <td>32</td>\n",
       "      <td>0.0</td>\n",
       "      <td>0.0</td>\n",
       "      <td>0.0</td>\n",
       "      <td>0.0</td>\n",
       "      <td>0.0</td>\n",
       "      <td>0.0</td>\n",
       "      <td>0.0</td>\n",
       "    </tr>\n",
       "    <tr>\n",
       "      <th>10603906</th>\n",
       "      <td>33</td>\n",
       "      <td>2</td>\n",
       "      <td>486</td>\n",
       "      <td>10</td>\n",
       "      <td>2015</td>\n",
       "      <td>31</td>\n",
       "      <td>22</td>\n",
       "      <td>3.0</td>\n",
       "      <td>0</td>\n",
       "      <td>4</td>\n",
       "      <td>...</td>\n",
       "      <td>298.00</td>\n",
       "      <td>13</td>\n",
       "      <td>13</td>\n",
       "      <td>1.0</td>\n",
       "      <td>0.0</td>\n",
       "      <td>0.0</td>\n",
       "      <td>2.0</td>\n",
       "      <td>0.0</td>\n",
       "      <td>1.0</td>\n",
       "      <td>0.0</td>\n",
       "    </tr>\n",
       "  </tbody>\n",
       "</table>\n",
       "<p>2 rows × 27 columns</p>\n",
       "</div>"
      ],
      "text/plain": [
       "          date_block_num  shop_id  item_id  month  year  max_days  busy_days  \\\n",
       "10603905              33        2       31     10  2015        31         22   \n",
       "10603906              33        2      486     10  2015        31         22   \n",
       "\n",
       "            Y  city_code  complex_code  ...  date_item_avg_item_price  \\\n",
       "10603905  1.0          0             4  ...                    376.75   \n",
       "10603906  3.0          0             4  ...                    298.00   \n",
       "\n",
       "          item_shop_first_sale  item_first_sale  Y_lag_1  Y_lag_2  Y_lag_3  \\\n",
       "10603905                    32               32      0.0      0.0      0.0   \n",
       "10603906                    13               13      1.0      0.0      0.0   \n",
       "\n",
       "          Y_lag_4  Y_lag_5  Y_lag_12  Y_lag_mean  \n",
       "10603905      0.0      0.0       0.0         0.0  \n",
       "10603906      2.0      0.0       1.0         0.0  \n",
       "\n",
       "[2 rows x 27 columns]"
      ]
     },
     "execution_count": 96,
     "metadata": {},
     "output_type": "execute_result"
    }
   ],
   "source": [
    "def lag_feature(df, lags, col,mean_lag = False):\n",
    "    tmp = df[['date_block_num','shop_id','item_id',col]]\n",
    "    for i in lags:\n",
    "        shifted = tmp.copy()\n",
    "        shifted.columns = ['date_block_num','shop_id','item_id', col+'_lag_'+str(i)]\n",
    "        shifted['date_block_num'] += i\n",
    "        df = pd.merge(df, shifted, on=['date_block_num','shop_id','item_id'], how='left')\n",
    "    \n",
    "    names = [col+'_lag_'+str(i) for i in [1,2,3]]\n",
    "    if mean_lag : \n",
    "        df[col+'_lag_mean'] = np.round(df[names].mean(axis = 1))\n",
    "        \n",
    "    return df\n",
    "\n",
    "\n",
    "data=  lag_feature(data, [1,2,3,4,5,12], 'Y',mean_lag = True)\n",
    "data = reduce_mem_usage(data)\n",
    "data.loc[data.date_block_num == 33].head(2)"
   ]
  },
  {
   "cell_type": "markdown",
   "metadata": {},
   "source": [
    "### Price"
   ]
  },
  {
   "cell_type": "code",
   "execution_count": 97,
   "metadata": {},
   "outputs": [
    {
     "name": "stderr",
     "output_type": "stream",
     "text": [
      "C:\\Users\\leo\\Anaconda3\\lib\\site-packages\\numpy\\core\\fromnumeric.py:90: RuntimeWarning: overflow encountered in reduce\n",
      "  return ufunc.reduce(obj, axis, dtype, out, **passkwargs)\n",
      "C:\\Users\\leo\\Anaconda3\\lib\\site-packages\\pandas\\core\\nanops.py:116: RuntimeWarning: Mean of empty slice\n",
      "  result = bn_func(values, axis=axis, **kwds)\n",
      "C:\\Users\\leo\\Anaconda3\\lib\\site-packages\\numpy\\core\\_methods.py:38: RuntimeWarning: overflow encountered in reduce\n",
      "  return umr_sum(a, axis, dtype, out, keepdims, initial, where)\n"
     ]
    },
    {
     "data": {
      "application/vnd.jupyter.widget-view+json": {
       "model_id": "50a23174dd704297849958f7ff302a03",
       "version_major": 2,
       "version_minor": 0
      },
      "text/plain": [
       "A Jupyter Widget"
      ]
     },
     "metadata": {},
     "output_type": "display_data"
    },
    {
     "name": "stdout",
     "output_type": "stream",
     "text": [
      "\n"
     ]
    },
    {
     "data": {
      "text/html": [
       "<div>\n",
       "<style scoped>\n",
       "    .dataframe tbody tr th:only-of-type {\n",
       "        vertical-align: middle;\n",
       "    }\n",
       "\n",
       "    .dataframe tbody tr th {\n",
       "        vertical-align: top;\n",
       "    }\n",
       "\n",
       "    .dataframe thead th {\n",
       "        text-align: right;\n",
       "    }\n",
       "</style>\n",
       "<table border=\"1\" class=\"dataframe\">\n",
       "  <thead>\n",
       "    <tr style=\"text-align: right;\">\n",
       "      <th></th>\n",
       "      <th>date_block_num</th>\n",
       "      <th>shop_id</th>\n",
       "      <th>item_id</th>\n",
       "      <th>month</th>\n",
       "      <th>year</th>\n",
       "      <th>max_days</th>\n",
       "      <th>busy_days</th>\n",
       "      <th>Y</th>\n",
       "      <th>city_code</th>\n",
       "      <th>complex_code</th>\n",
       "      <th>...</th>\n",
       "      <th>item_first_sale</th>\n",
       "      <th>Y_lag_1</th>\n",
       "      <th>Y_lag_2</th>\n",
       "      <th>Y_lag_3</th>\n",
       "      <th>Y_lag_4</th>\n",
       "      <th>Y_lag_5</th>\n",
       "      <th>Y_lag_12</th>\n",
       "      <th>Y_lag_mean</th>\n",
       "      <th>date_item_avg_item_price_lag_mean</th>\n",
       "      <th>delta_price_lag</th>\n",
       "    </tr>\n",
       "  </thead>\n",
       "  <tbody>\n",
       "    <tr>\n",
       "      <th>10842077</th>\n",
       "      <td>34</td>\n",
       "      <td>5</td>\n",
       "      <td>5037</td>\n",
       "      <td>11</td>\n",
       "      <td>2015</td>\n",
       "      <td>30</td>\n",
       "      <td>20</td>\n",
       "      <td>0.0</td>\n",
       "      <td>3</td>\n",
       "      <td>3</td>\n",
       "      <td>...</td>\n",
       "      <td>14</td>\n",
       "      <td>0.0</td>\n",
       "      <td>1.0</td>\n",
       "      <td>3.0</td>\n",
       "      <td>1.0</td>\n",
       "      <td>1.0</td>\n",
       "      <td>1.0</td>\n",
       "      <td>1.0</td>\n",
       "      <td>1112.0</td>\n",
       "      <td>-0.222046</td>\n",
       "    </tr>\n",
       "    <tr>\n",
       "      <th>10842078</th>\n",
       "      <td>34</td>\n",
       "      <td>5</td>\n",
       "      <td>5320</td>\n",
       "      <td>11</td>\n",
       "      <td>2015</td>\n",
       "      <td>30</td>\n",
       "      <td>20</td>\n",
       "      <td>0.0</td>\n",
       "      <td>3</td>\n",
       "      <td>3</td>\n",
       "      <td>...</td>\n",
       "      <td>0</td>\n",
       "      <td>NaN</td>\n",
       "      <td>NaN</td>\n",
       "      <td>NaN</td>\n",
       "      <td>NaN</td>\n",
       "      <td>NaN</td>\n",
       "      <td>NaN</td>\n",
       "      <td>NaN</td>\n",
       "      <td>NaN</td>\n",
       "      <td>0.000000</td>\n",
       "    </tr>\n",
       "  </tbody>\n",
       "</table>\n",
       "<p>2 rows × 27 columns</p>\n",
       "</div>"
      ],
      "text/plain": [
       "          date_block_num  shop_id  item_id  month  year  max_days  busy_days  \\\n",
       "10842077              34        5     5037     11  2015        30         20   \n",
       "10842078              34        5     5320     11  2015        30         20   \n",
       "\n",
       "            Y  city_code  complex_code  ...  item_first_sale  Y_lag_1  \\\n",
       "10842077  0.0          3             3  ...               14      0.0   \n",
       "10842078  0.0          3             3  ...                0      NaN   \n",
       "\n",
       "          Y_lag_2  Y_lag_3  Y_lag_4  Y_lag_5  Y_lag_12  Y_lag_mean  \\\n",
       "10842077      1.0      3.0      1.0      1.0       1.0         1.0   \n",
       "10842078      NaN      NaN      NaN      NaN       NaN         NaN   \n",
       "\n",
       "          date_item_avg_item_price_lag_mean  delta_price_lag  \n",
       "10842077                             1112.0        -0.222046  \n",
       "10842078                                NaN         0.000000  \n",
       "\n",
       "[2 rows x 27 columns]"
      ]
     },
     "execution_count": 97,
     "metadata": {},
     "output_type": "execute_result"
    }
   ],
   "source": [
    "lags = [1, 2, 3]\n",
    "\n",
    "data = lag_feature( data, lags, \"date_item_avg_item_price\" , mean_lag=True)\n",
    "\n",
    "for i in lags:\n",
    "    data[\"delta_price_lag_\" + str(i) ] = (data[\"date_item_avg_item_price_lag_\" + str(i)]- data[\"item_avg_item_price\"] )/ data[\"item_avg_item_price\"]\n",
    "\n",
    "def select_trends(row) :\n",
    "    for i in (lags):\n",
    "        if row[\"delta_price_lag_\" + str(i)]:\n",
    "            return row[\"delta_price_lag_\" + str(i)]\n",
    "    return 0\n",
    "\n",
    "data[\"delta_price_lag\"] = data.apply(select_trends, axis = 1)\n",
    "data[\"delta_price_lag\"] = data.delta_price_lag.astype( np.float16 )\n",
    "data[\"delta_price_lag\"].fillna( 0 ,inplace = True)\n",
    "\n",
    "features_to_drop = [\"item_avg_item_price\", \"date_item_avg_item_price\"]\n",
    "for i in tqdm_notebook(lags):\n",
    "    features_to_drop.append(\"date_item_avg_item_price_lag_\" + str(i) )\n",
    "    features_to_drop.append(\"delta_price_lag_\" + str(i) )\n",
    "data.drop(features_to_drop, axis = 1, inplace = True)\n",
    "\n",
    "data.loc[data.date_block_num == 34].head(2)"
   ]
  },
  {
   "cell_type": "markdown",
   "metadata": {},
   "source": [
    "## D'autres Lags\n",
    "On va calculer d'autres Lags correspondants à des moyennes de ventes en groupant par colonnes. "
   ]
  },
  {
   "cell_type": "code",
   "execution_count": 98,
   "metadata": {},
   "outputs": [
    {
     "data": {
      "application/vnd.jupyter.widget-view+json": {
       "model_id": "18feaff6c4454e33b2d63e00d004331c",
       "version_major": 2,
       "version_minor": 0
      },
      "text/plain": [
       "A Jupyter Widget"
      ]
     },
     "metadata": {},
     "output_type": "display_data"
    },
    {
     "name": "stdout",
     "output_type": "stream",
     "text": [
      "Processing date_block_num_avg_Y.\n",
      "Processing date_block_num_item_id_avg_Y.\n"
     ]
    },
    {
     "name": "stderr",
     "output_type": "stream",
     "text": [
      "C:\\Users\\leo\\Anaconda3\\lib\\site-packages\\pandas\\core\\nanops.py:116: RuntimeWarning: Mean of empty slice\n",
      "  result = bn_func(values, axis=axis, **kwds)\n"
     ]
    },
    {
     "name": "stdout",
     "output_type": "stream",
     "text": [
      "Processing date_block_num_shop_id_avg_Y.\n",
      "Processing date_block_num_item_category_id_avg_Y.\n",
      "Processing date_block_num_city_code_avg_Y.\n",
      "Processing date_block_num_item_id_city_code_avg_Y.\n",
      "Processing date_block_num_type_code_avg_Y.\n",
      "Processing date_block_num_subtype_code_avg_Y.\n",
      "Processing date_block_num_shop_id_item_category_id_avg_Y.\n",
      "Processing date_block_num_shop_id_item_id_avg_Y.\n",
      "\n"
     ]
    }
   ],
   "source": [
    "col_list = [['date_block_num'],['date_block_num','item_id'],\n",
    "            ['date_block_num', 'shop_id'],['date_block_num', 'item_category_id'],\n",
    "            ['date_block_num', 'city_code'],['date_block_num', 'item_id', 'city_code'],\n",
    "            ['date_block_num', 'type_code'],['date_block_num', 'subtype_code'],\n",
    "            ['date_block_num', 'shop_id', 'item_category_id'], ['date_block_num', 'shop_id', 'item_id']]\n",
    "\n",
    "for col_name in tqdm_notebook(col_list) :\n",
    "    name = '_'.join(col_name) + '_avg_Y'\n",
    "    print('Processing {}.'.format(name))\n",
    "    \n",
    "    group = data.groupby(col_name).agg({'Y': ['mean']})\n",
    "    group.columns = [ name ]\n",
    "    group.reset_index(inplace=True)\n",
    "\n",
    "    data = data.merge(group, on= col_name, how='left')\n",
    "    #Je fais le choix d'encoder avec des entiers, qui sont moins gourmands en mémoire que les floats\n",
    "    #data[name] = (data[name]*500).astype(np.int)\n",
    "    data = lag_feature(data, [1], name)\n",
    "    # pour cela, on va chercher des lags plus anciens car ils sont importants ! \n",
    "    if col_name in [['date_block_num','item_id'],['date_block_num', 'shop_id'],['date_block_num', 'item_category_id'],['date_block_num', 'shop_id', 'item_id']]:\n",
    "        data = lag_feature(data, [2,3], name,mean_lag = True\n",
    "                          )\n",
    "    data.drop([name], axis=1, inplace=True)\n",
    "\n",
    "    "
   ]
  },
  {
   "cell_type": "markdown",
   "metadata": {},
   "source": [
    "On peut prendre d'autres statistiques, comme la médiane."
   ]
  },
  {
   "cell_type": "code",
   "execution_count": 99,
   "metadata": {},
   "outputs": [
    {
     "data": {
      "application/vnd.jupyter.widget-view+json": {
       "model_id": "4ae7425fbded47958b6e5a0745fc4810",
       "version_major": 2,
       "version_minor": 0
      },
      "text/plain": [
       "A Jupyter Widget"
      ]
     },
     "metadata": {},
     "output_type": "display_data"
    },
    {
     "name": "stdout",
     "output_type": "stream",
     "text": [
      "Processing date_block_num_shop_id_median_Y.\n"
     ]
    },
    {
     "name": "stderr",
     "output_type": "stream",
     "text": [
      "C:\\Users\\leo\\Anaconda3\\lib\\site-packages\\pandas\\core\\nanops.py:116: RuntimeWarning: Mean of empty slice\n",
      "  result = bn_func(values, axis=axis, **kwds)\n"
     ]
    },
    {
     "name": "stdout",
     "output_type": "stream",
     "text": [
      "Processing date_block_num_shop_id_item_category_id_median_Y.\n",
      "\n"
     ]
    }
   ],
   "source": [
    "col_list = [['date_block_num', 'shop_id'], ['date_block_num', 'shop_id','item_category_id']]\n",
    "\n",
    "for col_name in tqdm_notebook(col_list) :\n",
    "    name = '_'.join(col_name) + '_median_Y'\n",
    "    print('Processing {}.'.format(name))\n",
    "\n",
    "    \n",
    "    group = data.groupby(col_name).agg({'Y': ['median']})\n",
    "    group.columns = [ name ]\n",
    "    group.reset_index(inplace=True)\n",
    "\n",
    "    data = data.merge(group, on= col_name, how='left')\n",
    "    \n",
    "    #Je fais le choix d'encoder avec des entiers, qui sont moins gourmands en mémoire que les floats\n",
    "    #data[name] = (data[name]*500).astype(np.int)\n",
    "    data = lag_feature(data, [1], name)\n",
    "    \n",
    "    if col_name in [['date_block_num', 'shop_id']]:\n",
    "        \n",
    "        data = lag_feature(data, [2,3], name,mean_lag = True)\n",
    "    \n",
    "    data.drop([name], axis=1, inplace=True)"
   ]
  },
  {
   "cell_type": "code",
   "execution_count": 100,
   "metadata": {},
   "outputs": [
    {
     "name": "stdout",
     "output_type": "stream",
     "text": [
      "Mem. usage decreased to 1149.31 Mb (-5.8% reduction)\n"
     ]
    }
   ],
   "source": [
    "### Important : on enlève la partie test, qui va nous géner pour le mean encoding. \n",
    "# On fillna pour le X_test car les Nan correspondent à des nouveaux produits, donc leurs previous ventes sont nulles\n",
    "data = reduce_mem_usage(data)\n",
    "pickle.dump(data, open('Pickle_save/data_lags', 'wb'))\n",
    "print(data.shape)\n",
    "X_test = data.loc[data.date_block_num == 34].drop(['Y'], axis=1)\n",
    "pickle.dump(X_test,open('Pickle_save/X_test', 'wb'))\n",
    "print(X_test.shape)\n"
   ]
  },
  {
   "cell_type": "markdown",
   "metadata": {},
   "source": [
    "### Encodage des variables categoriques \n",
    "\n",
    "Essai pour encoder les variabe catégoriques en utilisant l'expanding mean. \n",
    "--> Je n'ai pas gardé l'encodage pour le resultat final. (Overfitting enorme)"
   ]
  },
  {
   "cell_type": "code",
   "execution_count": 27,
   "metadata": {
    "collapsed": true
   },
   "outputs": [],
   "source": [
    "data = data.loc[data.date_block_num < 34]\n",
    "\n",
    "# J'utilise la moyenne expanding, pour eviter l'overfitting. C'est très adapté pour les grands nombres de categories. \n",
    "def col_target_enc_expand(df,col):\n",
    "    \n",
    "    cumsum = df.groupby(col)['Y'].cumsum() - df['Y']\n",
    "    cumcount = df.groupby(col).cumcount()\n",
    "    # On ajoute 1 car la fonction cumcount commence à 0 dans pandas\n",
    "    return np.round((cumsum / (cumcount+1))*500)\n",
    "\n",
    "\n",
    "cols = [['item_id'],\n",
    "        ['shop_id','item_id'],\n",
    "        ['shop_id'],\n",
    "        ['city_code'],\n",
    "        ['complex_code'],\n",
    "        ['item_category_id'],\n",
    "        ['type_code'],\n",
    "        ['subtype_code'],\n",
    "        ['month'],\n",
    "       ['name2'],\n",
    "       ['name3']]\n",
    "\n",
    "mean = 0.246149\n",
    "\n",
    "for col in tqdm_notebook(cols) :\n",
    "    name_mean = '_'.join(col)+'_target_enc_expand'\n",
    "    data[name_mean] = col_target_enc_expand(data,col)\n",
    "    data[name_mean].replace(np.inf, mean, inplace=True)\n",
    "\n",
    "\n",
    "data = reduce_mem_usage(data)\n",
    "pickle.dump(data,open('Pickle_save/encoded','wb'))\n",
    "\n",
    "\n",
    "\n",
    "col_data = list(data)\n",
    "col_data.remove('Y')\n",
    "col_test = list(X_test)\n",
    "keys = ['item_id','shop_id'] \n",
    "expands = list(set(col_data) - set(col_test))\n",
    "\n",
    "cols_to_use = keys + expands \n",
    "\n",
    "gb = X_test.merge(data[cols_to_use],on = keys ,how ='left')\n",
    "gb = gb.groupby(keys)[expands].median()\n",
    "gb.reset_index(inplace = True)\n",
    "\n",
    "\n",
    "X_test = X_test.merge(gb,on = keys ,how ='left')\n",
    "X_test = X_test[col_data]\n",
    "pickle.dump(X_test, open('Pickle_save/model_test', 'wb'))"
   ]
  },
  {
   "cell_type": "markdown",
   "metadata": {},
   "source": [
    "## Model Fit"
   ]
  },
  {
   "cell_type": "code",
   "execution_count": 43,
   "metadata": {},
   "outputs": [],
   "source": [
    "data =pickle.load(open('Pickle_save/data_lags','rb'))\n",
    "data = data[data.date_block_num < 34]\n",
    "data = data[data.date_block_num > 12]\n",
    "\n",
    "test = pickle.load(open('Pickle_save/X_test','rb'))\n",
    "test = test.reset_index(drop=True)"
   ]
  },
  {
   "cell_type": "code",
   "execution_count": 44,
   "metadata": {},
   "outputs": [],
   "source": [
    "cols_to_keep = pickle.load(open(\"Pickle_save/cols_to_keep\",'rb'))\n",
    "\n",
    "\n",
    "X_train = data[data.date_block_num < 33].drop(['Y'], axis=1)[cols_to_keep]\n",
    "Y_train = data[data.date_block_num < 33]['Y']\n",
    "X_valid = data[data.date_block_num == 33].drop(['Y'], axis=1)[cols_to_keep]\n",
    "Y_valid = data[data.date_block_num == 33]['Y']\n",
    "\n",
    "test = test[cols_to_keep]"
   ]
  },
  {
   "cell_type": "code",
   "execution_count": 7,
   "metadata": {
    "collapsed": true
   },
   "outputs": [],
   "source": [
    "X_train = data[data.date_block_num < 33].drop(['Y'], axis=1)\n",
    "Y_train = data[data.date_block_num < 33]['Y']\n",
    "X_valid = data[data.date_block_num == 33].drop(['Y'], axis=1)\n",
    "Y_valid = data[data.date_block_num == 33]['Y']\n"
   ]
  },
  {
   "cell_type": "code",
   "execution_count": 45,
   "metadata": {},
   "outputs": [],
   "source": [
    "import lightgbm as lgb\n",
    "\n",
    "lgb_params = {\n",
    "               'feature_fraction': 0.75,\n",
    "               'metric': 'rmse',\n",
    "               'nthread':1, \n",
    "               'min_data_in_leaf': 2**7, \n",
    "               'bagging_fraction': 0.75, \n",
    "               'learning_rate': 0.03, \n",
    "               'objective': 'mse', \n",
    "               'bagging_seed': 2**7, \n",
    "               'num_leaves': 2**7,\n",
    "               'bagging_freq':1,\n",
    "               'verbose':0 \n",
    "              }\n",
    "\n",
    "model = lgb.train(lgb_params, lgb.Dataset(X_train, label=Y_train), num_boost_round = 200,valid_sets = lgb.Dataset(X_valid, label=Y_valid),early_stopping_rounds = 10,verbose_eval =True)\n",
    "\n"
   ]
  },
  {
   "cell_type": "code",
   "execution_count": 46,
   "metadata": {},
   "outputs": [
    {
     "data": {
      "image/png": "[encoded data removed]",
      "text/plain": [
       "<Figure size 1440x2160 with 1 Axes>"
      ]
     },
     "metadata": {},
     "output_type": "display_data"
    }
   ],
   "source": [
    "pickle.load(open('Pickle_save/model2','rb'))\n",
    "lgb.plot_importance(model,figsize = (20,30),importance_type = 'gain')\n",
    "plt.show()"
   ]
  },
  {
   "cell_type": "code",
   "execution_count": 19,
   "metadata": {},
   "outputs": [],
   "source": [
    "\n",
    "importance = model.feature_importance(importance_type='gain')\n",
    "feature_name = model.feature_name()\n",
    "\n",
    "feature_importance = pd.DataFrame({'feature_name':feature_name,'importance':importance} ).sort_values('importance', ascending=False)\n",
    "feature_importance.head(26)\n",
    "#feature_importance.to_csv('feature_importance.csv',index=False)\n",
    "cols_to_keep = feature_importance.feature_name.values[:37]\n",
    "#len(cols_to_keep)\n",
    "pickle.dump(cols_to_keep, open('Pickle_save/cols_to_keep', 'wb'))\n"
   ]
  },
  {
   "cell_type": "code",
   "execution_count": 20,
   "metadata": {
    "collapsed": true
   },
   "outputs": [],
   "source": [
    "pickle.dump(model, open('Pickle_save/model2', 'wb'))\n"
   ]
  },
  {
   "cell_type": "code",
   "execution_count": 47,
   "metadata": {
    "collapsed": true
   },
   "outputs": [],
   "source": [
    "result = model.predict(test)\n",
    "\n",
    "submission = pd.DataFrame({\n",
    "    \"ID\": test.index, \n",
    "    \"item_cnt_month\": result.clip(0, 20)\n",
    "})\n",
    "submission = submission.set_index('ID')\n",
    "submission.to_csv('Results/submission4.csv')\n"
   ]
  },
  {
   "cell_type": "code",
   "execution_count": 48,
   "metadata": {},
   "outputs": [
    {
     "data": {
      "text/plain": [
       "array([0.54965266, 0.45389057, 1.33351723, ..., 0.05334535, 0.03043541,\n",
       "       0.05264771])"
      ]
     },
     "execution_count": 48,
     "metadata": {},
     "output_type": "execute_result"
    }
   ],
   "source": [
    "result"
   ]
  }
 ],
 "metadata": {
  "kernelspec": {
   "display_name": "Python 3",
   "language": "python",
   "name": "python3"
  }
 },
 "nbformat": 4,
 "nbformat_minor": 2
}
